{
 "cells": [
  {
   "cell_type": "code",
   "execution_count": null,
   "metadata": {},
   "outputs": [],
   "source": [
    "import json\n",
    "\n",
    "dataset = \"5CD-AI/Vietnamese-395k-meta-math-MetaMathQA-gg-translated\"\n",
    "old_file_path = f\"{dataset}.json\"\n",
    "new_file_path = f\"Formatted{dataset}.jsonl\"\n",
    "\n",
    "# Load old format JSON data\n",
    "with open(old_file_path, \"r\", encoding=\"utf-8\") as old_file:\n",
    "    old_data = json.load(old_file)\n",
    "\n",
    "# Define Llama-3 prompt and system prompt\n",
    "llama_format = \"\"\"\n",
    "<|begin_of_text|><|start_header_id|>system<|end_header_id|>\n",
    "{system_prompt}<|eot_id|><|start_header_id|>user<|end_header_id|>\n",
    "{user_question}<|eot_id|><|start_header_id|>assistant<|end_header_id|>\n",
    "{model_answer}<|eot_id|>\n",
    "\"\"\"\n",
    "formatted_data = []\n",
    "system_prompt = \"Bạn là một trợ lí có thể trả lời các câu hỏi toán học.\"\n",
    "\n",
    "# Transform the data into the correct format and write it to a JSONL file\n",
    "with open(new_file_path, \"w\", encoding=\"utf-8\") as new_file:\n",
    "    for piece in old_data:\n",
    "        temp_data = {\n",
    "            \"text\": llama_format.format(\n",
    "                system_prompt=system_prompt,\n",
    "                user_question=piece[\"instruction\"],\n",
    "                model_answer=piece[\"output\"],\n",
    "            )\n",
    "        }\n",
    "        new_file.write(json.dumps(temp_data))\n",
    "        new_file.write(\"\\n\")\n"
   ]
  }
 ],
 "metadata": {
  "language_info": {
   "name": "python"
  }
 },
 "nbformat": 4,
 "nbformat_minor": 2
}
