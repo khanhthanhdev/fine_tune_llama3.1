{
 "cells": [
  {
   "cell_type": "code",
   "execution_count": null,
   "metadata": {},
   "outputs": [],
   "source": [
    "%%capture\n",
    "!pip install pandas"
   ]
  },
  {
   "cell_type": "code",
   "execution_count": 1,
   "metadata": {},
   "outputs": [
    {
     "name": "stderr",
     "output_type": "stream",
     "text": [
      "/workspace/.pyenv_mirror/user/current/lib/python3.12/site-packages/tqdm/auto.py:21: TqdmWarning: IProgress not found. Please update jupyter and ipywidgets. See https://ipywidgets.readthedocs.io/en/stable/user_install.html\n",
      "  from .autonotebook import tqdm as notebook_tqdm\n"
     ]
    }
   ],
   "source": [
    "import pandas as pd\n",
    "\n",
    "df = pd.read_json(\"hf://datasets/5CD-AI/Vietnamese-meta-math-MetaMathQA-40K-gg-translated/MetaMathQA-40K_vi.json\")"
   ]
  },
  {
   "cell_type": "code",
   "execution_count": 2,
   "metadata": {},
   "outputs": [
    {
     "data": {
      "text/html": [
       "<div>\n",
       "<style scoped>\n",
       "    .dataframe tbody tr th:only-of-type {\n",
       "        vertical-align: middle;\n",
       "    }\n",
       "\n",
       "    .dataframe tbody tr th {\n",
       "        vertical-align: top;\n",
       "    }\n",
       "\n",
       "    .dataframe thead th {\n",
       "        text-align: right;\n",
       "    }\n",
       "</style>\n",
       "<table border=\"1\" class=\"dataframe\">\n",
       "  <thead>\n",
       "    <tr style=\"text-align: right;\">\n",
       "      <th></th>\n",
       "      <th>query_vi</th>\n",
       "      <th>query_en</th>\n",
       "      <th>response_vi</th>\n",
       "      <th>response_en</th>\n",
       "      <th>type</th>\n",
       "    </tr>\n",
       "  </thead>\n",
       "  <tbody>\n",
       "    <tr>\n",
       "      <th>0</th>\n",
       "      <td>Cha của Reggie đã cho anh ấy 48 đô la. Reggie ...</td>\n",
       "      <td>Reggie's father gave him $48. Reggie bought 5 ...</td>\n",
       "      <td>Để giải quyết vấn đề này, chúng ta cần xác địn...</td>\n",
       "      <td>To solve this problem, we need to determine th...</td>\n",
       "      <td>GSM_SV</td>\n",
       "    </tr>\n",
       "    <tr>\n",
       "      <th>1</th>\n",
       "      <td>Jean và ba người bạn của cô ấy đang chơi trò c...</td>\n",
       "      <td>Jean and her three friends are playing a game ...</td>\n",
       "      <td>Có 28 quân domino trong bộ này. Jean và ba ngư...</td>\n",
       "      <td>There are 28 dominoes in the set.\\nJean and he...</td>\n",
       "      <td>GSM_AnsAug</td>\n",
       "    </tr>\n",
       "    <tr>\n",
       "      <th>2</th>\n",
       "      <td>Cally và Danny giặt quần áo. Cally có 10 áo sơ...</td>\n",
       "      <td>Cally and Danny washed their clothes. Cally ha...</td>\n",
       "      <td>Cally có tổng cộng 10 áo trắng + 5 áo màu + 7 ...</td>\n",
       "      <td>Cally has a total of 10 white shirts + 5 color...</td>\n",
       "      <td>GSM_AnsAug</td>\n",
       "    </tr>\n",
       "    <tr>\n",
       "      <th>3</th>\n",
       "      <td>Tổng chi phí cho đơn hàng đồ ăn nhanh của Kare...</td>\n",
       "      <td>What is the total cost of Karen's fast-food or...</td>\n",
       "      <td>Ban đầu Karen gọi một chiếc burger giá 5 đô la...</td>\n",
       "      <td>Karen initially ordered a 5-dollar burger.\\nSh...</td>\n",
       "      <td>GSM_Rephrased</td>\n",
       "    </tr>\n",
       "    <tr>\n",
       "      <th>4</th>\n",
       "      <td>Các số $20$ đầu tiên của sự sắp xếp được hiển ...</td>\n",
       "      <td>The first $20$ numbers of an arrangement are s...</td>\n",
       "      <td>\\nĐể xác định giá trị của số thứ 40 trong cách...</td>\n",
       "      <td>\\nTo determine the value of the 40th number in...</td>\n",
       "      <td>MATH_SV</td>\n",
       "    </tr>\n",
       "  </tbody>\n",
       "</table>\n",
       "</div>"
      ],
      "text/plain": [
       "                                            query_vi  \\\n",
       "0  Cha của Reggie đã cho anh ấy 48 đô la. Reggie ...   \n",
       "1  Jean và ba người bạn của cô ấy đang chơi trò c...   \n",
       "2  Cally và Danny giặt quần áo. Cally có 10 áo sơ...   \n",
       "3  Tổng chi phí cho đơn hàng đồ ăn nhanh của Kare...   \n",
       "4  Các số $20$ đầu tiên của sự sắp xếp được hiển ...   \n",
       "\n",
       "                                            query_en  \\\n",
       "0  Reggie's father gave him $48. Reggie bought 5 ...   \n",
       "1  Jean and her three friends are playing a game ...   \n",
       "2  Cally and Danny washed their clothes. Cally ha...   \n",
       "3  What is the total cost of Karen's fast-food or...   \n",
       "4  The first $20$ numbers of an arrangement are s...   \n",
       "\n",
       "                                         response_vi  \\\n",
       "0  Để giải quyết vấn đề này, chúng ta cần xác địn...   \n",
       "1  Có 28 quân domino trong bộ này. Jean và ba ngư...   \n",
       "2  Cally có tổng cộng 10 áo trắng + 5 áo màu + 7 ...   \n",
       "3  Ban đầu Karen gọi một chiếc burger giá 5 đô la...   \n",
       "4  \\nĐể xác định giá trị của số thứ 40 trong cách...   \n",
       "\n",
       "                                         response_en           type  \n",
       "0  To solve this problem, we need to determine th...         GSM_SV  \n",
       "1  There are 28 dominoes in the set.\\nJean and he...     GSM_AnsAug  \n",
       "2  Cally has a total of 10 white shirts + 5 color...     GSM_AnsAug  \n",
       "3  Karen initially ordered a 5-dollar burger.\\nSh...  GSM_Rephrased  \n",
       "4  \\nTo determine the value of the 40th number in...        MATH_SV  "
      ]
     },
     "execution_count": 2,
     "metadata": {},
     "output_type": "execute_result"
    }
   ],
   "source": [
    "df.head()"
   ]
  },
  {
   "cell_type": "code",
   "execution_count": 3,
   "metadata": {},
   "outputs": [],
   "source": [
    "df.to_json('output.jsonl', orient='records', lines=True)"
   ]
  },
  {
   "cell_type": "code",
   "execution_count": null,
   "metadata": {},
   "outputs": [],
   "source": [
    "import json\n",
    "\n",
    "dataset = \"5CD-AI/Vietnamese-395k-meta-math-MetaMathQA-gg-translated\"\n",
    "old_file_path = f\"{dataset}.json\"\n",
    "new_file_path = f\"Formatted{dataset}.jsonl\"\n",
    "\n",
    "# Load old format JSON data\n",
    "with open(old_file_path, \"r\", encoding=\"utf-8\") as old_file:\n",
    "    old_data = json.load(old_file)\n",
    "\n",
    "# Define Llama-3 prompt and system prompt\n",
    "llama_format = \"\"\"\n",
    "<|begin_of_text|><|start_header_id|>system<|end_header_id|>\n",
    "{system_prompt}<|eot_id|><|start_header_id|>user<|end_header_id|>\n",
    "{user_question}<|eot_id|><|start_header_id|>assistant<|end_header_id|>\n",
    "{model_answer}<|eot_id|>\n",
    "\"\"\"\n",
    "formatted_data = []\n",
    "system_prompt = \"Bạn là một trợ lí có thể trả lời các câu hỏi toán học.\"\n",
    "\n",
    "# Transform the data into the correct format and write it to a JSONL file\n",
    "with open(new_file_path, \"w\", encoding=\"utf-8\") as new_file:\n",
    "    for piece in old_data:\n",
    "        temp_data = {\n",
    "            \"text\": llama_format.format(\n",
    "                system_prompt=system_prompt,\n",
    "                user_question=piece[\"instruction\"],\n",
    "                model_answer=piece[\"output\"],\n",
    "            )\n",
    "        }\n",
    "        new_file.write(json.dumps(temp_data))\n",
    "        new_file.write(\"\\n\")\n"
   ]
  }
 ],
 "metadata": {
  "kernelspec": {
   "display_name": "Python 3",
   "language": "python",
   "name": "python3"
  },
  "language_info": {
   "codemirror_mode": {
    "name": "ipython",
    "version": 3
   },
   "file_extension": ".py",
   "mimetype": "text/x-python",
   "name": "python",
   "nbconvert_exporter": "python",
   "pygments_lexer": "ipython3",
   "version": "3.12.4"
  }
 },
 "nbformat": 4,
 "nbformat_minor": 2
}
